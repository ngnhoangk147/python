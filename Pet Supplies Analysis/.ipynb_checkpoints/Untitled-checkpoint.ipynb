{
 "cells": [
  {
   "cell_type": "code",
   "execution_count": 177,
   "id": "fbfd396a",
   "metadata": {},
   "outputs": [],
   "source": [
    "import pandas as pd\n",
    "import matplotlib.pyplot as plt\n",
    "import seaborn as sns"
   ]
  },
  {
   "cell_type": "markdown",
   "id": "b57646e9",
   "metadata": {},
   "source": [
    "- The first thing I did was to check the information about a DataFrame including the index dtype and columns. \n",
    "    + 150 entries that was missing values in 'rating' column -> replacing with 0\n",
    "    + 'price' column was object datatype and had some values as 'unlisted' -> replacing with the overall median price\n",
    "- I used .value_counts() function to check categorical values in 'category', 'animal' and 'size'\n",
    "    + 25 unreasonable values as '-' in 'category' column -> replacing with 'Unknown'\n",
    "    + Converting values in 'size' to be capitalized."
   ]
  },
  {
   "cell_type": "code",
   "execution_count": 178,
   "id": "13fe4e44",
   "metadata": {},
   "outputs": [
    {
     "data": {
      "text/html": [
       "<div>\n",
       "<style scoped>\n",
       "    .dataframe tbody tr th:only-of-type {\n",
       "        vertical-align: middle;\n",
       "    }\n",
       "\n",
       "    .dataframe tbody tr th {\n",
       "        vertical-align: top;\n",
       "    }\n",
       "\n",
       "    .dataframe thead th {\n",
       "        text-align: right;\n",
       "    }\n",
       "</style>\n",
       "<table border=\"1\" class=\"dataframe\">\n",
       "  <thead>\n",
       "    <tr style=\"text-align: right;\">\n",
       "      <th></th>\n",
       "      <th>product_id</th>\n",
       "      <th>category</th>\n",
       "      <th>animal</th>\n",
       "      <th>size</th>\n",
       "      <th>price</th>\n",
       "      <th>sales</th>\n",
       "      <th>rating</th>\n",
       "      <th>repeat_purchase</th>\n",
       "    </tr>\n",
       "  </thead>\n",
       "  <tbody>\n",
       "    <tr>\n",
       "      <th>0</th>\n",
       "      <td>1</td>\n",
       "      <td>Food</td>\n",
       "      <td>Bird</td>\n",
       "      <td>large</td>\n",
       "      <td>51.1</td>\n",
       "      <td>1860.62</td>\n",
       "      <td>7.0</td>\n",
       "      <td>1</td>\n",
       "    </tr>\n",
       "    <tr>\n",
       "      <th>1</th>\n",
       "      <td>2</td>\n",
       "      <td>Housing</td>\n",
       "      <td>Bird</td>\n",
       "      <td>MEDIUM</td>\n",
       "      <td>35.98</td>\n",
       "      <td>963.60</td>\n",
       "      <td>6.0</td>\n",
       "      <td>0</td>\n",
       "    </tr>\n",
       "    <tr>\n",
       "      <th>2</th>\n",
       "      <td>3</td>\n",
       "      <td>Food</td>\n",
       "      <td>Dog</td>\n",
       "      <td>medium</td>\n",
       "      <td>31.23</td>\n",
       "      <td>898.30</td>\n",
       "      <td>5.0</td>\n",
       "      <td>1</td>\n",
       "    </tr>\n",
       "    <tr>\n",
       "      <th>3</th>\n",
       "      <td>4</td>\n",
       "      <td>Medicine</td>\n",
       "      <td>Cat</td>\n",
       "      <td>small</td>\n",
       "      <td>24.95</td>\n",
       "      <td>982.15</td>\n",
       "      <td>6.0</td>\n",
       "      <td>1</td>\n",
       "    </tr>\n",
       "    <tr>\n",
       "      <th>4</th>\n",
       "      <td>5</td>\n",
       "      <td>Housing</td>\n",
       "      <td>Cat</td>\n",
       "      <td>Small</td>\n",
       "      <td>26.18</td>\n",
       "      <td>832.63</td>\n",
       "      <td>7.0</td>\n",
       "      <td>1</td>\n",
       "    </tr>\n",
       "  </tbody>\n",
       "</table>\n",
       "</div>"
      ],
      "text/plain": [
       "   product_id  category animal    size  price    sales  rating  \\\n",
       "0           1      Food   Bird   large   51.1  1860.62     7.0   \n",
       "1           2   Housing   Bird  MEDIUM  35.98   963.60     6.0   \n",
       "2           3      Food    Dog  medium  31.23   898.30     5.0   \n",
       "3           4  Medicine    Cat   small  24.95   982.15     6.0   \n",
       "4           5   Housing    Cat   Small  26.18   832.63     7.0   \n",
       "\n",
       "   repeat_purchase  \n",
       "0                1  \n",
       "1                0  \n",
       "2                1  \n",
       "3                1  \n",
       "4                1  "
      ]
     },
     "execution_count": 178,
     "metadata": {},
     "output_type": "execute_result"
    }
   ],
   "source": [
    "pet_supplies = pd.read_csv('pet_supplies_2212.csv')\n",
    "pet_supplies.head()"
   ]
  },
  {
   "cell_type": "code",
   "execution_count": 179,
   "id": "774029ba",
   "metadata": {},
   "outputs": [
    {
     "name": "stdout",
     "output_type": "stream",
     "text": [
      "<class 'pandas.core.frame.DataFrame'>\n",
      "RangeIndex: 1500 entries, 0 to 1499\n",
      "Data columns (total 8 columns):\n",
      " #   Column           Non-Null Count  Dtype  \n",
      "---  ------           --------------  -----  \n",
      " 0   product_id       1500 non-null   int64  \n",
      " 1   category         1500 non-null   object \n",
      " 2   animal           1500 non-null   object \n",
      " 3   size             1500 non-null   object \n",
      " 4   price            1500 non-null   object \n",
      " 5   sales            1500 non-null   float64\n",
      " 6   rating           1350 non-null   float64\n",
      " 7   repeat_purchase  1500 non-null   int64  \n",
      "dtypes: float64(2), int64(2), object(4)\n",
      "memory usage: 93.9+ KB\n"
     ]
    }
   ],
   "source": [
    "pet_supplies.info()"
   ]
  },
  {
   "cell_type": "code",
   "execution_count": 180,
   "id": "10e91175",
   "metadata": {},
   "outputs": [
    {
     "name": "stdout",
     "output_type": "stream",
     "text": [
      "Values in \"category\" \n",
      "Equipment    370\n",
      "Food         260\n",
      "Toys         255\n",
      "Medicine     237\n",
      "Housing      227\n",
      "Accessory    126\n",
      "-             25\n",
      "Name: category, dtype: int64\n",
      "\n",
      "Values in \"animal\" \n",
      "Cat     567\n",
      "Fish    369\n",
      "Dog     367\n",
      "Bird    197\n",
      "Name: animal, dtype: int64\n",
      "\n",
      "Values in \"size\" \n",
      "small     372\n",
      "medium    233\n",
      "Small     225\n",
      "SMALL     157\n",
      "Medium    150\n",
      "large     122\n",
      "MEDIUM    109\n",
      "Large      75\n",
      "LARGE      57\n",
      "Name: size, dtype: int64\n",
      "\n"
     ]
    }
   ],
   "source": [
    "for i in ['category', 'animal', 'size']:\n",
    "    print(f'Values in \"{i}\" \\n{pet_supplies[i].value_counts()}\\n')"
   ]
  },
  {
   "cell_type": "code",
   "execution_count": 181,
   "id": "0fe65a85",
   "metadata": {},
   "outputs": [
    {
     "name": "stdout",
     "output_type": "stream",
     "text": [
      "<class 'pandas.core.frame.DataFrame'>\n",
      "RangeIndex: 1500 entries, 0 to 1499\n",
      "Data columns (total 8 columns):\n",
      " #   Column           Non-Null Count  Dtype  \n",
      "---  ------           --------------  -----  \n",
      " 0   product_id       1500 non-null   int64  \n",
      " 1   category         1500 non-null   object \n",
      " 2   animal           1500 non-null   object \n",
      " 3   size             1500 non-null   object \n",
      " 4   price            1500 non-null   float64\n",
      " 5   sales            1500 non-null   float64\n",
      " 6   rating           1500 non-null   float64\n",
      " 7   repeat_purchase  1500 non-null   int64  \n",
      "dtypes: float64(3), int64(2), object(3)\n",
      "memory usage: 93.9+ KB\n"
     ]
    }
   ],
   "source": [
    "pet_supplies = pet_supplies.fillna({'rating':0})\n",
    "pet_supplies['price'] = pet_supplies['price'].replace('unlisted', 0)\n",
    "median_price = pet_supplies['price'].median()\n",
    "pet_supplies['price'] = pet_supplies['price'].replace(0, median_price)\n",
    "pet_supplies['price'] = pet_supplies['price'].astype(float)\n",
    "pet_supplies.info()"
   ]
  },
  {
   "cell_type": "code",
   "execution_count": 182,
   "id": "0a6efb0e",
   "metadata": {},
   "outputs": [],
   "source": [
    "pet_supplies['category'] = pet_supplies['category'].replace('-','Unknown')\n",
    "pet_supplies['size'] = pet_supplies['size'].str.capitalize()"
   ]
  },
  {
   "cell_type": "code",
   "execution_count": 183,
   "id": "016b5209",
   "metadata": {},
   "outputs": [
    {
     "name": "stdout",
     "output_type": "stream",
     "text": [
      "Values in \"category\" \n",
      "Equipment    370\n",
      "Food         260\n",
      "Toys         255\n",
      "Medicine     237\n",
      "Housing      227\n",
      "Accessory    126\n",
      "Unknown       25\n",
      "Name: category, dtype: int64\n",
      "\n",
      "Values in \"animal\" \n",
      "Cat     567\n",
      "Fish    369\n",
      "Dog     367\n",
      "Bird    197\n",
      "Name: animal, dtype: int64\n",
      "\n",
      "Values in \"size\" \n",
      "Small     754\n",
      "Medium    492\n",
      "Large     254\n",
      "Name: size, dtype: int64\n",
      "\n"
     ]
    }
   ],
   "source": [
    "for i in ['category', 'animal', 'size']:\n",
    "    print(f'Values in \"{i}\" \\n{pet_supplies[i].value_counts()}\\n')"
   ]
  },
  {
   "cell_type": "code",
   "execution_count": 184,
   "id": "e51f504d",
   "metadata": {},
   "outputs": [
    {
     "data": {
      "text/html": [
       "<div>\n",
       "<style scoped>\n",
       "    .dataframe tbody tr th:only-of-type {\n",
       "        vertical-align: middle;\n",
       "    }\n",
       "\n",
       "    .dataframe tbody tr th {\n",
       "        vertical-align: top;\n",
       "    }\n",
       "\n",
       "    .dataframe thead th {\n",
       "        text-align: right;\n",
       "    }\n",
       "</style>\n",
       "<table border=\"1\" class=\"dataframe\">\n",
       "  <thead>\n",
       "    <tr style=\"text-align: right;\">\n",
       "      <th></th>\n",
       "      <th>product_id</th>\n",
       "      <th>category</th>\n",
       "      <th>animal</th>\n",
       "      <th>size</th>\n",
       "      <th>price</th>\n",
       "      <th>sales</th>\n",
       "      <th>rating</th>\n",
       "      <th>repeat_purchase</th>\n",
       "    </tr>\n",
       "  </thead>\n",
       "  <tbody>\n",
       "    <tr>\n",
       "      <th>0</th>\n",
       "      <td>1</td>\n",
       "      <td>Food</td>\n",
       "      <td>Bird</td>\n",
       "      <td>Large</td>\n",
       "      <td>51.10</td>\n",
       "      <td>1860.62</td>\n",
       "      <td>7.0</td>\n",
       "      <td>1</td>\n",
       "    </tr>\n",
       "    <tr>\n",
       "      <th>2</th>\n",
       "      <td>3</td>\n",
       "      <td>Food</td>\n",
       "      <td>Dog</td>\n",
       "      <td>Medium</td>\n",
       "      <td>31.23</td>\n",
       "      <td>898.30</td>\n",
       "      <td>5.0</td>\n",
       "      <td>1</td>\n",
       "    </tr>\n",
       "    <tr>\n",
       "      <th>3</th>\n",
       "      <td>4</td>\n",
       "      <td>Medicine</td>\n",
       "      <td>Cat</td>\n",
       "      <td>Small</td>\n",
       "      <td>24.95</td>\n",
       "      <td>982.15</td>\n",
       "      <td>6.0</td>\n",
       "      <td>1</td>\n",
       "    </tr>\n",
       "    <tr>\n",
       "      <th>4</th>\n",
       "      <td>5</td>\n",
       "      <td>Housing</td>\n",
       "      <td>Cat</td>\n",
       "      <td>Small</td>\n",
       "      <td>26.18</td>\n",
       "      <td>832.63</td>\n",
       "      <td>7.0</td>\n",
       "      <td>1</td>\n",
       "    </tr>\n",
       "    <tr>\n",
       "      <th>10</th>\n",
       "      <td>11</td>\n",
       "      <td>Food</td>\n",
       "      <td>Dog</td>\n",
       "      <td>Large</td>\n",
       "      <td>40.87</td>\n",
       "      <td>1457.22</td>\n",
       "      <td>7.0</td>\n",
       "      <td>1</td>\n",
       "    </tr>\n",
       "    <tr>\n",
       "      <th>...</th>\n",
       "      <td>...</td>\n",
       "      <td>...</td>\n",
       "      <td>...</td>\n",
       "      <td>...</td>\n",
       "      <td>...</td>\n",
       "      <td>...</td>\n",
       "      <td>...</td>\n",
       "      <td>...</td>\n",
       "    </tr>\n",
       "    <tr>\n",
       "      <th>1490</th>\n",
       "      <td>1491</td>\n",
       "      <td>Medicine</td>\n",
       "      <td>Cat</td>\n",
       "      <td>Medium</td>\n",
       "      <td>20.14</td>\n",
       "      <td>746.16</td>\n",
       "      <td>7.0</td>\n",
       "      <td>1</td>\n",
       "    </tr>\n",
       "    <tr>\n",
       "      <th>1492</th>\n",
       "      <td>1493</td>\n",
       "      <td>Medicine</td>\n",
       "      <td>Cat</td>\n",
       "      <td>Small</td>\n",
       "      <td>24.95</td>\n",
       "      <td>993.08</td>\n",
       "      <td>7.0</td>\n",
       "      <td>1</td>\n",
       "    </tr>\n",
       "    <tr>\n",
       "      <th>1493</th>\n",
       "      <td>1494</td>\n",
       "      <td>Housing</td>\n",
       "      <td>Fish</td>\n",
       "      <td>Small</td>\n",
       "      <td>21.00</td>\n",
       "      <td>535.90</td>\n",
       "      <td>3.0</td>\n",
       "      <td>1</td>\n",
       "    </tr>\n",
       "    <tr>\n",
       "      <th>1498</th>\n",
       "      <td>1499</td>\n",
       "      <td>Medicine</td>\n",
       "      <td>Fish</td>\n",
       "      <td>Small</td>\n",
       "      <td>19.94</td>\n",
       "      <td>658.66</td>\n",
       "      <td>5.0</td>\n",
       "      <td>1</td>\n",
       "    </tr>\n",
       "    <tr>\n",
       "      <th>1499</th>\n",
       "      <td>1500</td>\n",
       "      <td>Food</td>\n",
       "      <td>Cat</td>\n",
       "      <td>Medium</td>\n",
       "      <td>25.95</td>\n",
       "      <td>826.08</td>\n",
       "      <td>4.0</td>\n",
       "      <td>1</td>\n",
       "    </tr>\n",
       "  </tbody>\n",
       "</table>\n",
       "<p>906 rows × 8 columns</p>\n",
       "</div>"
      ],
      "text/plain": [
       "      product_id  category animal    size  price    sales  rating  \\\n",
       "0              1      Food   Bird   Large  51.10  1860.62     7.0   \n",
       "2              3      Food    Dog  Medium  31.23   898.30     5.0   \n",
       "3              4  Medicine    Cat   Small  24.95   982.15     6.0   \n",
       "4              5   Housing    Cat   Small  26.18   832.63     7.0   \n",
       "10            11      Food    Dog   Large  40.87  1457.22     7.0   \n",
       "...          ...       ...    ...     ...    ...      ...     ...   \n",
       "1490        1491  Medicine    Cat  Medium  20.14   746.16     7.0   \n",
       "1492        1493  Medicine    Cat   Small  24.95   993.08     7.0   \n",
       "1493        1494   Housing   Fish   Small  21.00   535.90     3.0   \n",
       "1498        1499  Medicine   Fish   Small  19.94   658.66     5.0   \n",
       "1499        1500      Food    Cat  Medium  25.95   826.08     4.0   \n",
       "\n",
       "      repeat_purchase  \n",
       "0                   1  \n",
       "2                   1  \n",
       "3                   1  \n",
       "4                   1  \n",
       "10                  1  \n",
       "...               ...  \n",
       "1490                1  \n",
       "1492                1  \n",
       "1493                1  \n",
       "1498                1  \n",
       "1499                1  \n",
       "\n",
       "[906 rows x 8 columns]"
      ]
     },
     "execution_count": 184,
     "metadata": {},
     "output_type": "execute_result"
    }
   ],
   "source": [
    "repeat_supplies = pet_supplies[pet_supplies['repeat_purchase'] == 1]\n",
    "repeat_supplies"
   ]
  },
  {
   "cell_type": "code",
   "execution_count": 185,
   "id": "c38b9aa5",
   "metadata": {},
   "outputs": [
    {
     "data": {
      "image/png": "[encoded data removed]",
      "text/plain": [
       "<Figure size 720x432 with 1 Axes>"
      ]
     },
     "metadata": {
      "needs_background": "light"
     },
     "output_type": "display_data"
    }
   ],
   "source": [
    "plt.figure(figsize=(10,6))\n",
    "c = sns.countplot(data=repeat_supplies, x='category', order=repeat_supplies['category'].value_counts().index)\n",
    "c.bar_label(c.containers[0])\n",
    "plt.show()"
   ]
  },
  {
   "cell_type": "code",
   "execution_count": 239,
   "id": "b2444012",
   "metadata": {},
   "outputs": [
    {
     "data": {
      "text/plain": [
       "count    1500.000000\n",
       "mean      996.597847\n",
       "std       323.952676\n",
       "min       286.940000\n",
       "25%       747.420000\n",
       "50%      1000.830000\n",
       "75%      1158.157500\n",
       "max      2255.960000\n",
       "Name: sales, dtype: float64"
      ]
     },
     "execution_count": 239,
     "metadata": {},
     "output_type": "execute_result"
    }
   ],
   "source": [
    "pet_supplies['sales'].describe()"
   ]
  },
  {
   "cell_type": "code",
   "execution_count": 234,
   "id": "499e8f53",
   "metadata": {},
   "outputs": [
    {
     "data": {
      "image/png": "[encoded data removed]",
      "text/plain": [
       "<Figure size 720x432 with 1 Axes>"
      ]
     },
     "metadata": {
      "needs_background": "light"
     },
     "output_type": "display_data"
    }
   ],
   "source": [
    "plt.figure(figsize=(10,6))\n",
    "sns.boxplot(data=pet_supplies, x='sales')\n",
    "plt.show()"
   ]
  },
  {
   "cell_type": "code",
   "execution_count": 187,
   "id": "1c715fe5",
   "metadata": {},
   "outputs": [
    {
     "name": "stdout",
     "output_type": "stream",
     "text": [
      "1158.1575\n",
      "747.42\n",
      "410.73750000000007\n",
      "1774.26375\n",
      "131.3137499999999\n"
     ]
    }
   ],
   "source": [
    "# 75th percentile\n",
    "per75 = pet_supplies['sales'].quantile(0.75)\n",
    "# 25th percentile\n",
    "per25 = pet_supplies['sales'].quantile(0.25)\n",
    "# IQR\n",
    "sales_iqr = per75 - per25\n",
    "# upper/lower threshold\n",
    "upper = per75 + 1.5*sales_iqr\n",
    "lower = per25 - 1.5*sales_iqr\n",
    "print(f'{per75}\\n{per25}\\n{sales_iqr}\\n{upper}\\n{lower}')"
   ]
  },
  {
   "cell_type": "code",
   "execution_count": 188,
   "id": "087a3b0c",
   "metadata": {},
   "outputs": [
    {
     "data": {
      "text/plain": [
       "count    1457.000000\n",
       "mean      969.668785\n",
       "std       286.432446\n",
       "min       286.940000\n",
       "25%       743.830000\n",
       "50%       989.830000\n",
       "75%      1117.990000\n",
       "max      1729.760000\n",
       "Name: sales, dtype: float64"
      ]
     },
     "execution_count": 188,
     "metadata": {},
     "output_type": "execute_result"
    }
   ],
   "source": [
    "sale_no_outlier = pet_supplies[(pet_supplies['sales'] > lower) & (pet_supplies['sales'] < upper)]\n",
    "sale_no_outlier['sales'].describe()"
   ]
  },
  {
   "cell_type": "code",
   "execution_count": 189,
   "id": "f690e982",
   "metadata": {},
   "outputs": [
    {
     "data": {
      "image/png": "[encoded data removed]",
      "text/plain": [
       "<Figure size 720x432 with 1 Axes>"
      ]
     },
     "metadata": {
      "needs_background": "light"
     },
     "output_type": "display_data"
    }
   ],
   "source": [
    "plt.figure(figsize=(10,6))\n",
    "sns.histplot(data=sale_no_outlier, x='sales', bins=10, kde=True)\n",
    "plt.show()"
   ]
  },
  {
   "cell_type": "code",
   "execution_count": 243,
   "id": "9c93225a",
   "metadata": {},
   "outputs": [
    {
     "data": {
      "image/png": "[encoded data removed]",
      "text/plain": [
       "<Figure size 720x432 with 1 Axes>"
      ]
     },
     "metadata": {},
     "output_type": "display_data"
    }
   ],
   "source": [
    "plt.figure(figsize=(10,6))\n",
    "sns.histplot(data=pet_supplies, x='sales', bins=10, kde=True)\n",
    "plt.show()"
   ]
  },
  {
   "cell_type": "code",
   "execution_count": 237,
   "id": "bcf3a25a",
   "metadata": {},
   "outputs": [
    {
     "data": {
      "image/png": "[encoded data removed]",
      "text/plain": [
       "<Figure size 720x288 with 1 Axes>"
      ]
     },
     "metadata": {
      "needs_background": "light"
     },
     "output_type": "display_data"
    }
   ],
   "source": [
    "plt.figure(figsize=(10,4))\n",
    "sns.boxplot(data=sale_no_outlier, x='sales')\n",
    "plt.show()"
   ]
  },
  {
   "cell_type": "code",
   "execution_count": 238,
   "id": "44ed54b1",
   "metadata": {},
   "outputs": [
    {
     "data": {
      "image/png": "[encoded data removed]",
      "text/plain": [
       "<Figure size 720x432 with 1 Axes>"
      ]
     },
     "metadata": {
      "needs_background": "light"
     },
     "output_type": "display_data"
    }
   ],
   "source": [
    "plt.figure(figsize=(10,6))\n",
    "sns.set_style('whitegrid')\n",
    "sns.boxplot(data=sale_no_outlier, y='sales', x='category')\n",
    "plt.show()"
   ]
  },
  {
   "cell_type": "code",
   "execution_count": 233,
   "id": "65f7054b",
   "metadata": {},
   "outputs": [
    {
     "data": {
      "image/png": "[encoded data removed]",
      "text/plain": [
       "<Figure size 720x432 with 1 Axes>"
      ]
     },
     "metadata": {
      "needs_background": "light"
     },
     "output_type": "display_data"
    },
    {
     "data": {
      "image/png": "[encoded data removed]",
      "text/plain": [
       "<Figure size 720x432 with 1 Axes>"
      ]
     },
     "metadata": {
      "needs_background": "light"
     },
     "output_type": "display_data"
    },
    {
     "data": {
      "image/png": "[encoded data removed]",
      "text/plain": [
       "<Figure size 720x432 with 1 Axes>"
      ]
     },
     "metadata": {
      "needs_background": "light"
     },
     "output_type": "display_data"
    }
   ],
   "source": [
    "\n",
    "for i in ['category', 'animal', 'size']:\n",
    "    plt.figure(figsize=(10,6))\n",
    "    sorted_list = sale_no_outlier.groupby(i)['sales'].sum().sort_values(ascending=False).index\n",
    "    g = sns.barplot(data=sale_no_outlier, y='sales', x=i, estimator=sum, order=sorted_list)\n",
    "    g.set_title(f\"Sales by {i}\", y=1.03)\n",
    "    g.bar_label(g.containers[0], label_type='center')\n",
    "    plt.show()"
   ]
  },
  {
   "cell_type": "code",
   "execution_count": 203,
   "id": "49443f0e",
   "metadata": {},
   "outputs": [
    {
     "data": {
      "text/plain": [
       "1    0.601922\n",
       "0    0.398078\n",
       "Name: repeat_purchase, dtype: float64"
      ]
     },
     "execution_count": 203,
     "metadata": {},
     "output_type": "execute_result"
    }
   ],
   "source": [
    "sale_no_outlier['repeat_purchase'].value_counts(normalize=True)"
   ]
  },
  {
   "cell_type": "code",
   "execution_count": 213,
   "id": "f5542ccd",
   "metadata": {},
   "outputs": [
    {
     "data": {
      "text/html": [
       "<div>\n",
       "<style scoped>\n",
       "    .dataframe tbody tr th:only-of-type {\n",
       "        vertical-align: middle;\n",
       "    }\n",
       "\n",
       "    .dataframe tbody tr th {\n",
       "        vertical-align: top;\n",
       "    }\n",
       "\n",
       "    .dataframe thead th {\n",
       "        text-align: right;\n",
       "    }\n",
       "</style>\n",
       "<table border=\"1\" class=\"dataframe\">\n",
       "  <thead>\n",
       "    <tr style=\"text-align: right;\">\n",
       "      <th></th>\n",
       "      <th>repeat_purchase</th>\n",
       "      <th>nb_purchases</th>\n",
       "      <th>total_sales</th>\n",
       "    </tr>\n",
       "  </thead>\n",
       "  <tbody>\n",
       "    <tr>\n",
       "      <th>0</th>\n",
       "      <td>0</td>\n",
       "      <td>580</td>\n",
       "      <td>583819.19</td>\n",
       "    </tr>\n",
       "    <tr>\n",
       "      <th>1</th>\n",
       "      <td>1</td>\n",
       "      <td>877</td>\n",
       "      <td>828988.23</td>\n",
       "    </tr>\n",
       "  </tbody>\n",
       "</table>\n",
       "</div>"
      ],
      "text/plain": [
       "   repeat_purchase  nb_purchases  total_sales\n",
       "0                0           580    583819.19\n",
       "1                1           877    828988.23"
      ]
     },
     "execution_count": 213,
     "metadata": {},
     "output_type": "execute_result"
    }
   ],
   "source": [
    "grouped_df = sale_no_outlier.groupby('repeat_purchase', as_index=False).agg(nb_purchases=('product_id','count'),\n",
    "                                                                            total_sales=('sales','sum'))\n",
    "grouped_df"
   ]
  },
  {
   "cell_type": "code",
   "execution_count": 223,
   "id": "2667d476",
   "metadata": {},
   "outputs": [
    {
     "data": {
      "image/png": "[encoded data removed]",
      "text/plain": [
       "<Figure size 720x432 with 1 Axes>"
      ]
     },
     "metadata": {
      "needs_background": "light"
     },
     "output_type": "display_data"
    }
   ],
   "source": [
    "plt.figure(figsize=(10,6))\n",
    "sns.set_palette('RdBu')\n",
    "sns.barplot(data=sale_no_outlier, y='sales', x='category', estimator=sum, hue='repeat_purchase')\n",
    "plt.show()"
   ]
  },
  {
   "cell_type": "code",
   "execution_count": 228,
   "id": "e41edbb4",
   "metadata": {},
   "outputs": [
    {
     "data": {
      "image/png": "[encoded data removed]",
      "text/plain": [
       "<Figure size 720x432 with 1 Axes>"
      ]
     },
     "metadata": {
      "needs_background": "light"
     },
     "output_type": "display_data"
    }
   ],
   "source": [
    "plt.figure(figsize=(10,6))\n",
    "sns.set_palette('RdBu')\n",
    "sns.boxplot(data=sale_no_outlier, y='sales', x='category', hue='repeat_purchase')\n",
    "plt.show()"
   ]
  },
  {
   "cell_type": "code",
   "execution_count": 224,
   "id": "91a535fe",
   "metadata": {},
   "outputs": [
    {
     "data": {
      "text/html": [
       "<div>\n",
       "<style scoped>\n",
       "    .dataframe tbody tr th:only-of-type {\n",
       "        vertical-align: middle;\n",
       "    }\n",
       "\n",
       "    .dataframe tbody tr th {\n",
       "        vertical-align: top;\n",
       "    }\n",
       "\n",
       "    .dataframe thead th {\n",
       "        text-align: right;\n",
       "    }\n",
       "</style>\n",
       "<table border=\"1\" class=\"dataframe\">\n",
       "  <thead>\n",
       "    <tr style=\"text-align: right;\">\n",
       "      <th></th>\n",
       "      <th>category</th>\n",
       "      <th>repeat_purchase</th>\n",
       "      <th>nb_purchases</th>\n",
       "      <th>total_sales</th>\n",
       "    </tr>\n",
       "  </thead>\n",
       "  <tbody>\n",
       "    <tr>\n",
       "      <th>0</th>\n",
       "      <td>Accessory</td>\n",
       "      <td>0</td>\n",
       "      <td>56</td>\n",
       "      <td>57873.72</td>\n",
       "    </tr>\n",
       "    <tr>\n",
       "      <th>1</th>\n",
       "      <td>Accessory</td>\n",
       "      <td>1</td>\n",
       "      <td>70</td>\n",
       "      <td>63399.72</td>\n",
       "    </tr>\n",
       "    <tr>\n",
       "      <th>2</th>\n",
       "      <td>Equipment</td>\n",
       "      <td>0</td>\n",
       "      <td>149</td>\n",
       "      <td>143461.97</td>\n",
       "    </tr>\n",
       "    <tr>\n",
       "      <th>3</th>\n",
       "      <td>Equipment</td>\n",
       "      <td>1</td>\n",
       "      <td>220</td>\n",
       "      <td>203539.80</td>\n",
       "    </tr>\n",
       "    <tr>\n",
       "      <th>4</th>\n",
       "      <td>Food</td>\n",
       "      <td>0</td>\n",
       "      <td>103</td>\n",
       "      <td>109159.94</td>\n",
       "    </tr>\n",
       "    <tr>\n",
       "      <th>5</th>\n",
       "      <td>Food</td>\n",
       "      <td>1</td>\n",
       "      <td>137</td>\n",
       "      <td>140821.06</td>\n",
       "    </tr>\n",
       "    <tr>\n",
       "      <th>6</th>\n",
       "      <td>Housing</td>\n",
       "      <td>0</td>\n",
       "      <td>75</td>\n",
       "      <td>57299.10</td>\n",
       "    </tr>\n",
       "    <tr>\n",
       "      <th>7</th>\n",
       "      <td>Housing</td>\n",
       "      <td>1</td>\n",
       "      <td>152</td>\n",
       "      <td>118031.21</td>\n",
       "    </tr>\n",
       "    <tr>\n",
       "      <th>8</th>\n",
       "      <td>Medicine</td>\n",
       "      <td>0</td>\n",
       "      <td>83</td>\n",
       "      <td>77557.84</td>\n",
       "    </tr>\n",
       "    <tr>\n",
       "      <th>9</th>\n",
       "      <td>Medicine</td>\n",
       "      <td>1</td>\n",
       "      <td>152</td>\n",
       "      <td>132770.46</td>\n",
       "    </tr>\n",
       "    <tr>\n",
       "      <th>10</th>\n",
       "      <td>Toys</td>\n",
       "      <td>0</td>\n",
       "      <td>104</td>\n",
       "      <td>127730.93</td>\n",
       "    </tr>\n",
       "    <tr>\n",
       "      <th>11</th>\n",
       "      <td>Toys</td>\n",
       "      <td>1</td>\n",
       "      <td>134</td>\n",
       "      <td>158432.67</td>\n",
       "    </tr>\n",
       "    <tr>\n",
       "      <th>12</th>\n",
       "      <td>Unknown</td>\n",
       "      <td>0</td>\n",
       "      <td>10</td>\n",
       "      <td>10735.69</td>\n",
       "    </tr>\n",
       "    <tr>\n",
       "      <th>13</th>\n",
       "      <td>Unknown</td>\n",
       "      <td>1</td>\n",
       "      <td>12</td>\n",
       "      <td>11993.31</td>\n",
       "    </tr>\n",
       "  </tbody>\n",
       "</table>\n",
       "</div>"
      ],
      "text/plain": [
       "     category  repeat_purchase  nb_purchases  total_sales\n",
       "0   Accessory                0            56     57873.72\n",
       "1   Accessory                1            70     63399.72\n",
       "2   Equipment                0           149    143461.97\n",
       "3   Equipment                1           220    203539.80\n",
       "4        Food                0           103    109159.94\n",
       "5        Food                1           137    140821.06\n",
       "6     Housing                0            75     57299.10\n",
       "7     Housing                1           152    118031.21\n",
       "8    Medicine                0            83     77557.84\n",
       "9    Medicine                1           152    132770.46\n",
       "10       Toys                0           104    127730.93\n",
       "11       Toys                1           134    158432.67\n",
       "12    Unknown                0            10     10735.69\n",
       "13    Unknown                1            12     11993.31"
      ]
     },
     "execution_count": 224,
     "metadata": {},
     "output_type": "execute_result"
    }
   ],
   "source": [
    "grouped_df = sale_no_outlier.groupby(['category','repeat_purchase'], as_index=False).agg(nb_purchases=('product_id','count'),\n",
    "                                                                            total_sales=('sales','sum'))\n",
    "grouped_df"
   ]
  }
 ],
 "metadata": {
  "kernelspec": {
   "display_name": "Python 3 (ipykernel)",
   "language": "python",
   "name": "python3"
  },
  "language_info": {
   "codemirror_mode": {
    "name": "ipython",
    "version": 3
   },
   "file_extension": ".py",
   "mimetype": "text/x-python",
   "name": "python",
   "nbconvert_exporter": "python",
   "pygments_lexer": "ipython3",
   "version": "3.9.12"
  }
 },
 "nbformat": 4,
 "nbformat_minor": 5
}
